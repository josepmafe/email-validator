{
 "cells": [
  {
   "cell_type": "markdown",
   "metadata": {},
   "source": [
    "# Email validator\n",
    "\n",
    "Create an email address validator to ensure the addresses in the database are valid."
   ]
  },
  {
   "cell_type": "markdown",
   "metadata": {
    "ExecuteTime": {
     "end_time": "2021-01-24T15:09:44.829683Z",
     "start_time": "2021-01-24T15:09:44.810207Z"
    }
   },
   "source": [
    "Any e-mail address is made of a local part, the symbol `@` and a domain name. Thus, the validation process is done in three steps, and using RegEx patterns:\n",
    "1. Check if the email address has a valid base format, i.e., `localpart@domainname`.\n",
    "2. Check the local part format.\n",
    "3. Check the domain name format.\n",
    "\n",
    "Because a vast majority of the users use an unquoted address, the validator do not accepts addresses with a quoted local part. For more information about the formatting of the local part, see this [link](https://en.wikipedia.org/wiki/Email_address#Local-part). In addition, as IP domain names are extremly rare except in email spam, the validator does not accept them either. For more information about the domain formatting, see this other [link](https://en.wikipedia.org/wiki/Email_address#Domain).\n",
    "\n",
    "Of course, using RegEx patterns I can only verify that the email address is sintactically correct, but not whether it was misstyped or if it (exists checking the SMTP server). For a more complete validator that does extra verifications, one might use the `Python` third-party library `validate-email` (see their GitHub [repo](https://github.com/syrusakbary/validate_email)).\n",
    "\n",
    "In the following cell I include `EmailValidator`, which is a `Python` class designed to check whether an email address is valid or not. To use it, one only needs to instantiate it and use its convenience function `is_valid`, which returns a boolean value indicating whether the input email is valid or not. In case `is_email_valid` returns `False`, it also prints a message indicating the  reason why. See the following example:\n",
    "```python\n",
    "validator = EmailValidator()\n",
    "validator.is_email_valid('user@example.com')\n",
    "# output: True\n",
    "```\n",
    "\n",
    "For a faster (and less exhaustive) validation, one can use its class method `fast_validation`, which also returns a boolean according to the validity of the input address but prints no messages (nor raises exceptions). See the following example:\n",
    "```python\n",
    "EmailValidator.fast_validation('userexample.com') # notice there is no need to instantiate the class\n",
    "# output: False\n",
    "```"
   ]
  },
  {
   "cell_type": "code",
   "execution_count": 1,
   "metadata": {
    "ExecuteTime": {
     "end_time": "2021-02-05T11:49:43.255302Z",
     "start_time": "2021-02-05T11:49:43.245329Z"
    }
   },
   "outputs": [],
   "source": [
    "import re\n",
    "import traceback"
   ]
  },
  {
   "cell_type": "code",
   "execution_count": 2,
   "metadata": {
    "ExecuteTime": {
     "end_time": "2021-02-05T11:49:43.648370Z",
     "start_time": "2021-02-05T11:49:43.629418Z"
    }
   },
   "outputs": [],
   "source": [
    "# NOTE 1\n",
    "# (?: ) represents a non-capturing group, which allows to control \n",
    "# the expression concatenation order without the overhead of saving \n",
    "# it as a matched part of the string\n",
    "#\n",
    "# NOTE 2\n",
    "# the following references allude to RFC5322 \n",
    "# (https://tools.ietf.org/html/rfc5322)\n",
    "#\n",
    "# NOTE 3\n",
    "# as indicated in 3.1. Introduction, refer to RFC5234 Appendix B.1 \n",
    "# (https://tools.ietf.org/html/rfc5234#appendix-B.1) for the primitive \n",
    "# tokens definitions\n",
    "#\n",
    "# NOTE 4\n",
    "# in 3.2.2., when defining the comment content, RFC includes COMMENT \n",
    "# syntax, but adding it would be circular\n",
    "\n",
    "# see 2.2.2. Structured Header Field Bodies\n",
    "WSP = r'\\s'                                               # White SPace (maybe add square brakets)\n",
    "\n",
    "# see 2.2.3. Long Header Fields\n",
    "CRLF = r'(?:\\r\\n)'                                        # Carriage Return and Line Feed\n",
    "\n",
    "# see 3.2.1. Quoted characters\n",
    "QUOTED_PAIR = r'(?:\\\\.)'\n",
    "\n",
    "# see 3.2.2. Folding White Space and Comments\n",
    "FWS = r'(?:(?:' + WSP + '*' + CRLF + r')?' + WSP + r'+)'\n",
    "CTEXT = r'[\\x21-\\x27\\x2A-\\x5B\\x5D-\\x7E]'                  # comment text: printable US-ASCII chars but `(`, `)`, `\\`\n",
    "CCONTENT = r'(?:' + CTEXT + r'|' + QUOTED_PAIR + r')'\n",
    "COMMENT = r'\\((?:' + FWS + r'?' + CCONTENT + r')*' + FWS + r'?\\)'\n",
    "CFWS = r'(?:(?:(?:' + FWS + r'?' + COMMENT + r')+' + FWS + r'?)' + r'|' + FWS + r')'\n",
    "\n",
    "# see 3.2.3. Atom\n",
    "ATEXT = r'[a-zA-Z0-9!#\\$%&\\'\\*\\+\\-/=\\?\\^_`\\{\\|\\}~]'       # atom text: printable US-ASCII chars not including specials\n",
    "ATOM = CFWS + r'?' + ATEXT + r'+' + CFWS + r'?'\n",
    "DOT_ATOM_TEXT = ATEXT + r'+(?:\\.' + ATEXT + r'+)*'\n",
    "DOT_ATOM = CFWS + r'?' + DOT_ATOM_TEXT + CFWS + r'?'\n",
    "\n",
    "# see 3.2.4. Quoted string\n",
    "QTEXT = r'[\\x21\\x23-\\x5B\\x5D-\\x7E]'                       # quoted text: printable ASCII chars but `\"`, `\\`\n",
    "QCONTENT = r'(?:' + QTEXT + r'|' + QUOTED_PAIR + r')'\n",
    "QUOTED_STRING = CFWS + r'?' + r'\"(?:' + FWS + r'?' + QCONTENT + r')*' + FWS + r'?' + r'\"' + CFWS + r'?'\n",
    "\n",
    "# see 3.4.1. Addr-Spec\n",
    "LOCAL_PART = r'(?:' + DOT_ATOM + r'|' + QUOTED_STRING + r')'\n",
    "DTEXT = r'[\\x21-\\x5A\\x5E-\\x7E]' # domain text: printable US-ASCII chars but `(`, `)`, `\\`\n",
    "DOMAIN_LITERAL = CFWS + r'?' + r'\\[' + r'(?:' + FWS + r'?' + DTEXT + r')*' + FWS + r'?\\]' + CFWS + r'?'\n",
    "DOMAIN = r'(?:' + DOT_ATOM + r'|' + DOMAIN_LITERAL + r')'\n",
    "ADDR_SPEC = r'(' + LOCAL_PART + r')' + '@' + r'(' + DOMAIN + r')'\n",
    "\n",
    "# compiled regex patterns\n",
    "VALID_ADDRESS_PATTERN = re.compile(r'^' + ADDR_SPEC + r'$')         # a valid address must match exactly ADDR_SPEC\n",
    "UNQUOTED_LOCAL_PART_DOTS_PATTERN = re.compile(r\"^\\.|\\.{2,}|\\.$\")    # dot explicit problems for unquoted local part\n",
    "UNQUOTED_LOCAL_PART_PATTERN = re.compile(DOT_ATOM)                  # without quotes, it follows the DOT_ATOM syntax\n",
    "QUOTED_LOCAL_PART_PATTERN = re.compile(r'^' + QUOTED_STRING + r'$') # when quoted, the local part syntax is more flexible\n",
    "DOMAIN_DNS_LABEL_DOTS_PATTERN = re.compile(\"\\.{2,}\")                # domain DNS labels must be separated by a single dot\n",
    "DOMAIN_DNS_LABEL_HYPHENS_PATTERN = re.compile(\"^-|-$\")              # domain DNS labels must not begin nor end with a hyphen\n",
    "DOMAIN_NAME_PATTERN = UNQUOTED_LOCAL_PART_PATTERN                   # when not a literal, the domain has the ULP syntax \n",
    "DOMAIN_LITERAL_PATTERN = re.compile(r'^' + DOMAIN_LITERAL + r'$')   # IP format\n",
    "\n",
    "# lenght constants\n",
    "EMAIL_ADDRESS_MAX_LENGTH = 254\n",
    "LOCAL_PART_MAX_LENGTH = 64\n",
    "DOMAIN_MAX_LENGTH = 255\n",
    "DNS_LABEL_MAX_LENGHT = 64"
   ]
  },
  {
   "cell_type": "code",
   "execution_count": 3,
   "metadata": {
    "ExecuteTime": {
     "end_time": "2021-02-05T11:49:44.314189Z",
     "start_time": "2021-02-05T11:49:44.309203Z"
    }
   },
   "outputs": [],
   "source": [
    "class AddressNotSetError(ValueError):\n",
    "    pass\n",
    "\n",
    "class NotValidEmailAddressSyntaxError(ValueError):\n",
    "    pass\n",
    "\n",
    "class LocalPartSyntaxError(ValueError):\n",
    "    pass\n",
    "\n",
    "class DomainSyntaxError(ValueError):\n",
    "    pass"
   ]
  },
  {
   "cell_type": "code",
   "execution_count": 25,
   "metadata": {
    "ExecuteTime": {
     "end_time": "2021-02-05T12:14:07.426717Z",
     "start_time": "2021-02-05T12:14:07.384893Z"
    }
   },
   "outputs": [],
   "source": [
    "# TODOs\n",
    "#  - include checkings beyond syntax\n",
    "#  - add further distinction between IP versions\n",
    "\n",
    "class EmailValidator():\n",
    "    \"\"\"\n",
    "    Class used to validate an e-mail address. \n",
    "    \n",
    "    Any e-mail address is made of a local part, the symbol @ and a domain name.\n",
    "    According to the curernt standards, the local part is case-sentive, but the \n",
    "    recieving hosts must deliver messages in a case-independent way. Thus, we \n",
    "    treat the whole addresses in this latter manner.\n",
    "    \n",
    "    It uses the syntax rules from RFC 5322 (https://tools.ietf.org/html/rfc5322)\n",
    "    \"\"\"\n",
    "    def __init__(self, email_address = None):\n",
    "        \"\"\"\n",
    "        Parameters\n",
    "        ----------\n",
    "        email_address: str, optional\n",
    "            the address to validate. it can be set either when the \n",
    "            class is instantiated or when the method `self.validate`\n",
    "            is called. however, it is recommended to set pass it in\n",
    "            the latter case\n",
    "        \"\"\"\n",
    "        self.email_address_set_at_init = email_address is not None\n",
    "        self.email_address = str(email_address).lower() if self.email_address_set_at_init else None\n",
    "        self.local_part = None\n",
    "        self.domain = None\n",
    "        \n",
    "        #lenghts\n",
    "        self._email_address_max_length = EMAIL_ADDRESS_MAX_LENGTH\n",
    "        self._local_part_max_length = LOCAL_PART_MAX_LENGTH\n",
    "        self._domain_max_length = DOMAIN_MAX_LENGTH\n",
    "        self._dns_label_max_length = DNS_LABEL_MAX_LENGHT\n",
    "        \n",
    "        # patterns\n",
    "        self._valid_address_pattern = VALID_ADDRESS_PATTERN\n",
    "        self._unquoted_local_part_dots_pattern = UNQUOTED_LOCAL_PART_DOTS_PATTERN\n",
    "        self._unquoted_local_part_pattern = UNQUOTED_LOCAL_PART_PATTERN\n",
    "        self._quoted_local_part_pattern = QUOTED_LOCAL_PART_PATTERN\n",
    "        self._lhd_domain_dns_label_hyphens_pattern = DOMAIN_DNS_LABEL_HYPHENS_PATTERN\n",
    "        self._lhd_domain_dns_label_dots_pattern = DOMAIN_DNS_LABEL_DOTS_PATTERN\n",
    "        self._lhd_domain_dns_label_pattern = DOMAIN_NAME_PATTERN\n",
    "        self._domain_literal_pattern = DOMAIN_LITERAL_PATTERN\n",
    "    \n",
    "    def _is_call_valid(self, attr):\n",
    "        if attr is None:\n",
    "            print(\n",
    "                ('WARNING: This private method must not be called directly. ' \n",
    "                 'Use `self.is_email_valid()` or `cls.fast_validation()` instead.')\n",
    "            )\n",
    "            return False\n",
    "        \n",
    "        return True\n",
    "        \n",
    "    def _validate_base(self, simple = False):\n",
    "        \"\"\"\n",
    "        Checks if the e-mail address has an appropiate base format. \n",
    "        \n",
    "        NOTE: This (private) method must not be called directly but only via `self.validate`.\n",
    "        \"\"\"\n",
    "        if not self._is_call_valid(self.email_address):\n",
    "            return\n",
    "        \n",
    "        if len(self.email_address) > self._email_address_max_length:\n",
    "            raise NotValidEmailAddressSyntaxError(\n",
    "                f\"The address can not be longet than {self._email_address_max_length} characters\"\n",
    "            )\n",
    "        \n",
    "        # when called by `cls.fast_validation`\n",
    "        if simple:\n",
    "            if self._valid_address_pattern.search(self.email_address) is None:\n",
    "                raise NotValidEmailAddressSyntaxError((f\"Invalid syntax for address `{self.email_address}`\"))\n",
    "            \n",
    "            local_part, _, domain = self.email_address.rpartition('@')\n",
    "            if len(local_part) > self._local_part_max_length or len(domain) > self._domain_max_length:\n",
    "                raise NotValidEmailAddressSyntaxError((f\"Invalid syntax for address `{self.email_address}`\"))\n",
    "                   \n",
    "        # when called by `self.is_email_valid` or by `self.validate()`    \n",
    "        else:              \n",
    "            if self.email_address.count('@') == 0:\n",
    "                raise NotValidEmailAddressSyntaxError(\"Expecting address syntax like `localpart@domainname`\")\n",
    "\n",
    "            # assume that in case an address has more than 1 `@` character, the one\n",
    "            # delimiting local part and the domain is the last one\n",
    "            self.local_part, _, self.domain = self.email_address.rpartition('@')\n",
    "    \n",
    "    def _find_invalid_chars(self, text, pattern):\n",
    "        \"\"\"Find the characters from `text` not matching the `pattern` (the so-called invalid characters)\"\"\"\n",
    "        valid_characters = ''.join(pattern.findall(text))\n",
    "        if valid_characters:\n",
    "            return set(text).difference(valid_characters)\n",
    "        else:\n",
    "            return sorted(set(text))\n",
    "    \n",
    "    def _validate_local_part_quoted(self):\n",
    "        \"\"\"\n",
    "        Validates the local part format when it is quoted.\n",
    "        \n",
    "        NOTE: This (private) method must not be called directly but only via `self.validate`.\n",
    "        \"\"\"\n",
    "        if not self._is_call_valid(self.local_part):\n",
    "            return\n",
    "        \n",
    "        if self.local_part.count('\"') > 2:\n",
    "            raise LocalPartSyntaxError(\n",
    "                (f\"Invalid syntax for quoted local part `{self.local_part}`.\\n\"\n",
    "                  \"It must contain only one quoted string, i.e., it can't contain \"\n",
    "                \"\"\"more than 2 `\"` characters.\"\"\")\n",
    "            )\n",
    "            \n",
    "        invalid_chars = self._find_invalid_chars(self.local_part, self._quoted_local_part_pattern)\n",
    "        if invalid_chars:\n",
    "            raise LocalPartSyntaxError(\n",
    "                (f\"Invalid syntax for quoted local part `{self.local_part}`.\\n\"\n",
    "                 f\"It contains the following non-valid characters: `{''.join(invalid_chars)}`.\\n\" \n",
    "                  \"\"\"The accepted ones are printable US-ASCII characters but printable ASCII chars but `\"` and `\\`\"\"\")\n",
    "            )\n",
    "        \n",
    "    def _validate_local_part_unquoted(self):\n",
    "        \"\"\"\n",
    "        Validates the local part format when it is unquoted.\n",
    "        \n",
    "        NOTE: This (private) method must not be called directly but only via `self.validate`.\n",
    "        \"\"\"\n",
    "        if not self._is_call_valid(self.local_part):\n",
    "            return\n",
    "        \n",
    "        if self._unquoted_local_part_dots_pattern.search(self.local_part) is not None:\n",
    "            raise LocalPartSyntaxError(\n",
    "                (f\"Invalid syntax for local part `{self.local_part}`.\\n\"\n",
    "                  \"Unquoted local parts cannot either begin, end, or have two or more consecutive dot `.` characters.\")\n",
    "            )\n",
    "            \n",
    "        invalid_chars = self._find_invalid_chars(self.local_part, self._unquoted_local_part_pattern)\n",
    "        if invalid_chars:\n",
    "            raise LocalPartSyntaxError(\n",
    "                (f\"Invalid syntax for unquoted local part `{self.local_part}`.\\n\"\n",
    "                 f\"It contains the following non-valid characters: `{''.join(invalid_chars)}`.\\n\" \n",
    "                  \"The accepted ones are printable US-ASCII characters not including the specials, i.e.:\\n\"\n",
    "                  \"  - Latin letters `a` to `z` and `A` to `Z`\\n\"\n",
    "                  \"  - Digits `0` to `9`\\n\"\n",
    "                  \"  - Printable characters `!#$%&'*+-/=?^_`{|}~`\\n\"\n",
    "                  \"  - Dot `.`, as long as it is not the first or last character and that it does not appear consecutively\")\n",
    "            )\n",
    "            \n",
    "    def _validate_local_part(self):\n",
    "        \"\"\"\n",
    "        Validates the local part syntax according to the rules extracted from \n",
    "        RFC 5322\n",
    "        \n",
    "        This (private) method must not be called directly but only via `self._validate_local_part`.\n",
    "        \"\"\"\n",
    "        if not self._is_call_valid(self.local_part):\n",
    "            return\n",
    "        \n",
    "        if len(self.local_part) > self._local_part_max_length:\n",
    "            raise LocalPartSyntaxError(f\"The local part cannot be longer than {self._local_part_max_length} characters\")\n",
    "        if self.local_part.startswith('\"') and self.local_part.endswith('\"'):\n",
    "            self._validate_local_part_quoted()\n",
    "        else:\n",
    "            self._validate_local_part_unquoted()\n",
    "            \n",
    "    def _validate_domain_literal(self):\n",
    "        \"\"\"\n",
    "        Validates the domain name when it is an IP address.\n",
    "        \n",
    "        NOTE: This (private) method must not be called directly but only via `self.validate`.\n",
    "        \"\"\"\n",
    "        if not self._is_call_valid(self.domain):\n",
    "            return\n",
    "        \n",
    "        if self._domain_literal_pattern.search(self.domain) is None:\n",
    "            raise DomainSyntaxError(\"Invalid domain literal syntax\")\n",
    "            \n",
    "        # TODO: add further distinction between IP versions\n",
    "            \n",
    "    def _validate_LDH_domain(self):\n",
    "        \"\"\"\n",
    "        Validates the domain name when it follows the Letters, Digits, Hyphen (LHD) rule.\n",
    "        \n",
    "        NOTE: This (private) method must not be called directly but only via `self.validate`.\n",
    "        \"\"\"\n",
    "        if not self._is_call_valid(self.domain):\n",
    "            return\n",
    "        \n",
    "        # the domain name is a sequence of dot-separated DNS labels\n",
    "        if self._lhd_domain_dns_label_dots_pattern.search(self.domain) is not None:\n",
    "            raise DomainSyntaxError(\n",
    "                (f\"Invalid format for domain name `{self.domain}`.\\n\"\n",
    "                  \"DNS labels must be separated by a single dot `.` character.\")\n",
    "            )\n",
    "                \n",
    "        self.dns_labels = self.domain.split(\".\")\n",
    "        for label in self.dns_labels:\n",
    "            if len(label) > self._dns_label_max_length:\n",
    "                raise DomainSyntaxError(\n",
    "                    (f\"Invalid syntax for domain name `{self.domain}`.\\n\"\n",
    "                     f\"DNS labels cannot be longer than {self._dns_label_max_length} characters\")\n",
    "                )\n",
    "            \n",
    "            if self._lhd_domain_dns_label_hyphens_pattern.search(label) is not None:\n",
    "                raise DomainSyntaxError(\n",
    "                    (f\"Invalid syntax for domain name `{self.domain}`.\\n\"\n",
    "                      \"DNS labels cannot either begin or end with a hyphen `-` character.\")\n",
    "                )\n",
    "                \n",
    "            invalid_chars = self._find_invalid_chars(label, self._lhd_domain_dns_label_pattern)\n",
    "            if invalid_chars:\n",
    "                raise DomainSyntaxError(\n",
    "                    (f\"Invalid format for domain name `{self.domain}`.\\n\"\n",
    "                     f\"The DNS label `{label}` contains the following non-valid characters: `{''.join(invalid_chars)}`.\\n\"\n",
    "                      \"The accepted ones are printable US-ASCII characters not including the specials, i.e.:\\n\"\n",
    "                      \"  - Latin letters `a` to `z` and `A` to `Z`\\n\"\n",
    "                      \"  - Digits `0` to `9`\\n\"\n",
    "                      \"  - Printable characters `!#$%&'*+-/=?^_`{|}~`\\n\"\n",
    "                      \"  - Dot `.`, as long as it is not the first or last character and that it does not appear\"\n",
    "                          \"consecutively\")\n",
    "                )    \n",
    "        \n",
    "    def _validate_domain(self):\n",
    "        \"\"\"\n",
    "        Validates the domain name of an email address according to the rules extracted from \n",
    "        https://en.wikipedia.org/wiki/Email_address#Domain\n",
    "        \n",
    "        This (private) method must not be called directly but only via `self._validate_local_part`.\n",
    "        \"\"\"\n",
    "        if not self._is_call_valid(self.domain):\n",
    "            return\n",
    "        \n",
    "        if len(self.domain) > self._domain_max_length:\n",
    "            raise DomainSyntaxError(\n",
    "                (f\"Invalid syntax for domain name `{self.domain}`.\\n\"\n",
    "                 f\"It cannot be longer than {self._domain_max_length} characters\")\n",
    "            )\n",
    "            \n",
    "        # when the domain name is an IP address, it is surrounded by square brackets.\n",
    "        if self.domain.startswith('[') and self.domain.endswith(']'):\n",
    "            self._validate_domain_literal()\n",
    "        else:\n",
    "            self._validate_LDH_domain()\n",
    "            \n",
    "    def validate(self, email_address = None):\n",
    "        \"\"\"\n",
    "        The validation process is done in three steps:\n",
    "          1. Check if the email address has a valid base format, i.e., `localpart@domainname`.\n",
    "          2. Check the local part format.\n",
    "          3. Check the domain name format\n",
    "\n",
    "        If any validation step fails, the function raises an exception explaining what went wrong.\n",
    "        \n",
    "        Parameters\n",
    "        ----------\n",
    "        email_address: str, optional\n",
    "            the address to validate. there is no need to pass \n",
    "            it if it was set during the class instantiation\n",
    "        \"\"\"\n",
    "        if email_address is None and self.email_address is None:\n",
    "            raise AddressNotSetError(\n",
    "                (\"The address to validate must be set either when the class \"\n",
    "                 \"is instantiated or when this method is called.\")\n",
    "            )\n",
    "            \n",
    "        if self.email_address_set_at_init and email_address != self.email_address:\n",
    "            print(\n",
    "                (f\"WARNING: the email address `{self.email_address}` was when \"\n",
    "                 f\"instantiating the class, but now you are trying to validate \"\n",
    "                 f\"a different address `{email_address}`. \"\n",
    "                 f\"To avoid this warning, do not set any email address during the \"\n",
    "                 f\"class instantiation, as indicated in the docs.\")\n",
    "            )\n",
    "                   \n",
    "        # for convenience, cast to string (to avoid exceptions due to wrong input types) and lowercase\n",
    "        self.email_address = str(email_address).lower()\n",
    "        self._validate_base()\n",
    "        self._validate_local_part()\n",
    "        self._validate_domain()\n",
    "    \n",
    "    def _handle_error(self, error, show_traceback):\n",
    "        \"\"\"\n",
    "        Controls how to handle errors raised when validating an email address.\n",
    "        The current process is to print the error, optionally show its traceback\n",
    "        and return False, as an address that raises an error during its validation\n",
    "        is assumed to be an invalid one.\n",
    "        \n",
    "        Parameters\n",
    "        ----------\n",
    "        error: Exception\n",
    "            the exception to be handled\n",
    "        show_traceback: bool\n",
    "            whether to print the error traceback or not\n",
    "        \n",
    "        Returns\n",
    "        -------\n",
    "        False: bool\n",
    "            an email address that raises an error during its validation\n",
    "            is assumed to be an invalid one\n",
    "        \"\"\"\n",
    "        if show_traceback:\n",
    "            lines = traceback.format_tb(error.__traceback__)\n",
    "            for line in lines:\n",
    "                print(line)\n",
    "        print(f'{type(error).__name__}: {error}')\n",
    "        return False\n",
    "    \n",
    "    @classmethod\n",
    "    def fast_validation(cls, email_address):\n",
    "        \"\"\"\n",
    "        Convenience classmethod to check where an email address is valid or not. \n",
    "        It checks whether the address syntax (including the length of its parts) \n",
    "        is valid and returns a boolean accordingly.\n",
    "        \n",
    "        For a more exhaustive validation, one can use `self._is_email_valid()`\n",
    "        \n",
    "        Parameters\n",
    "        ----------\n",
    "        email_address: str\n",
    "            the address to validate\n",
    "        \n",
    "        Returns\n",
    "        -------\n",
    "        address_is_valid: bool\n",
    "            whether the input email address is valid or not\n",
    "        \"\"\"\n",
    "        try:\n",
    "            return cls(email_address)._validate_base(simple = True) is None\n",
    "        except NotValidEmailAddressSyntaxError as expected_error:\n",
    "            return False\n",
    "        except Exception as unexpected_error:\n",
    "            print(f'Found the following unexpected error when validating the address `{email_address}`')\n",
    "            return cls()._handle_error(unexpected_error, show_traceback = True)\n",
    "        \n",
    "    def is_email_valid(self, email_address, show_traceback = False):\n",
    "        \"\"\"\n",
    "        Convenience function to check where an email address is valid or not. \n",
    "        Unless `self.validate()`, it does not raise any exceptions but prints them.\n",
    "        For more information see the `validate` function.\n",
    "        \n",
    "        Parameters\n",
    "        ----------\n",
    "        email_address: str\n",
    "            the address to validate\n",
    "        \n",
    "        Returns\n",
    "        -------\n",
    "        address_is_valid: bool\n",
    "            whether the input email address is valid or not\n",
    "        \"\"\"\n",
    "        try:\n",
    "            return self.validate(email_address) is None\n",
    "        except (NotValidEmailAddressSyntaxError, LocalPartSyntaxError, DomainSyntaxError) as expected_error:\n",
    "            return self._handle_error(expected_error, show_traceback = show_traceback)\n",
    "        except Exception as unexpected_error:\n",
    "            print(f'Found the following unexpected error when validating the address `{email_address}`')\n",
    "            return self._handle_error(unexpected_error, show_traceback = True)  "
   ]
  },
  {
   "cell_type": "markdown",
   "metadata": {},
   "source": [
    "## Timing"
   ]
  },
  {
   "cell_type": "code",
   "execution_count": 26,
   "metadata": {
    "ExecuteTime": {
     "end_time": "2021-02-05T12:14:19.081225Z",
     "start_time": "2021-02-05T12:14:11.148920Z"
    },
    "scrolled": true
   },
   "outputs": [
    {
     "name": "stdout",
     "output_type": "stream",
     "text": [
      "9.79 µs ± 42.6 ns per loop (mean ± std. dev. of 7 runs, 100000 loops each)\n"
     ]
    }
   ],
   "source": [
    "%%timeit\n",
    "validator = EmailValidator()\n",
    "validator.is_email_valid(\"user@test.com\")"
   ]
  },
  {
   "cell_type": "code",
   "execution_count": 27,
   "metadata": {
    "ExecuteTime": {
     "end_time": "2021-02-05T12:14:21.928475Z",
     "start_time": "2021-02-05T12:14:19.238918Z"
    }
   },
   "outputs": [
    {
     "name": "stdout",
     "output_type": "stream",
     "text": [
      "3.3 µs ± 28.5 ns per loop (mean ± std. dev. of 7 runs, 100000 loops each)\n"
     ]
    }
   ],
   "source": [
    "%%timeit\n",
    "EmailValidator.fast_validation(\"user@test.com\")"
   ]
  },
  {
   "cell_type": "markdown",
   "metadata": {},
   "source": [
    "## Testing"
   ]
  },
  {
   "cell_type": "code",
   "execution_count": 23,
   "metadata": {
    "ExecuteTime": {
     "end_time": "2021-02-05T12:12:53.502877Z",
     "start_time": "2021-02-05T12:12:53.492901Z"
    }
   },
   "outputs": [],
   "source": [
    "valid_addresses = [\n",
    "    'simple@example.com',\n",
    "    'very.common@example.com',\n",
    "    'disposable.style.email.with+symbol@example.com',\n",
    "    'other.email-with-hyphen@example.com',\n",
    "    'fully-qualified-domain@example.com',\n",
    "    'user.name+tag+sorting@example.com',\n",
    "    'x@example.com',\n",
    "    'example-indeed@strange-example.com',\n",
    "    'admin@mailserver1', \n",
    "    'example@s.example', \n",
    "    '\" \"@example.org',\n",
    "    '\"john..doe\"@example.org',\n",
    "    'mailhost!username@example.org',\n",
    "    'user%example.com@example.org',\n",
    "    'user-@example.org',\n",
    "    '\"A@b@c\"@example.com',\n",
    "    \n",
    "    'jsmith@[192.168.2.1]',\n",
    "    'jsmith@[IPv6:2001:db8::1]'\n",
    "]\n",
    "\n",
    "invalid_addresses = [\n",
    "    'Abc.example.com', # no @ character\n",
    "    'A@b@c@example.com', # only one @ is allowed outside quotation marks\n",
    "    'a\"b(c)d,e:f;g<h>i[j\\k]l@example.com', # none of the special characters in this local-part are allowed outside quotation marks\n",
    "    'just\"not\"right@example.com', # quoted strings must be the only element making up the local-part\n",
    "    '\"quote\"separated\"@address.com',\n",
    "   r'this is\"not\\allowed@example.com', # spaces, quotes, and backslashes may only exist when within quoted strings and preceded by a backslash\n",
    "    'this\\ still\\\"not\\\\allowed@example.com', # even if escaped (preceded by a backslash), spaces, quotes, and backslashes must still be contained by quotes\n",
    "    '1234567890123456789012345678901234567890123456789012345678901234+x@example.com', # local-part is longer than 64 characters\n",
    "]"
   ]
  },
  {
   "cell_type": "code",
   "execution_count": 17,
   "metadata": {
    "ExecuteTime": {
     "end_time": "2021-02-05T12:00:29.909195Z",
     "start_time": "2021-02-05T12:00:29.901216Z"
    }
   },
   "outputs": [
    {
     "data": {
      "text/plain": [
       "True"
      ]
     },
     "execution_count": 17,
     "metadata": {},
     "output_type": "execute_result"
    }
   ],
   "source": [
    "all(EmailValidator.fast_validation(address) for address in valid_addresses)\n",
    "\n",
    "validator = EmailValidator()\n",
    "all(validator.is_email_valid(address) for address in valid_addresses)"
   ]
  },
  {
   "cell_type": "code",
   "execution_count": 24,
   "metadata": {
    "ExecuteTime": {
     "end_time": "2021-02-05T12:12:58.886872Z",
     "start_time": "2021-02-05T12:12:58.869007Z"
    },
    "scrolled": true
   },
   "outputs": [
    {
     "data": {
      "text/plain": [
       "True"
      ]
     },
     "execution_count": 24,
     "metadata": {},
     "output_type": "execute_result"
    }
   ],
   "source": [
    "all(not EmailValidator.fast_validation(address) for address in invalid_addresses)"
   ]
  },
  {
   "cell_type": "code",
   "execution_count": 19,
   "metadata": {
    "ExecuteTime": {
     "end_time": "2021-02-05T12:03:08.796320Z",
     "start_time": "2021-02-05T12:03:08.781840Z"
    }
   },
   "outputs": [
    {
     "name": "stdout",
     "output_type": "stream",
     "text": [
      "NotValidEmailAddressSyntaxError: Expecting address syntax like `localpart@domainname`\n",
      "LocalPartSyntaxError: Invalid syntax for unquoted local part `a@b@c`.\n",
      "It contains the following non-valid characters: `@`.\n",
      "The accepted ones are printable US-ASCII characters not including the specials, i.e.:\n",
      "  - Latin letters `a` to `z` and `A` to `Z`\n",
      "  - Digits `0` to `9`\n",
      "  - Printable characters `!#$%&'*+-/=?^_`{|}~`\n",
      "  - Dot `.`, as long as it is not the first or last character and that it does not appear consecutively\n",
      "LocalPartSyntaxError: Invalid syntax for unquoted local part `a\"b(c)d,e:f;g<h>i[j\\k]l`.\n",
      "It contains the following non-valid characters: `:,<[;\\>]\"`.\n",
      "The accepted ones are printable US-ASCII characters not including the specials, i.e.:\n",
      "  - Latin letters `a` to `z` and `A` to `Z`\n",
      "  - Digits `0` to `9`\n",
      "  - Printable characters `!#$%&'*+-/=?^_`{|}~`\n",
      "  - Dot `.`, as long as it is not the first or last character and that it does not appear consecutively\n",
      "LocalPartSyntaxError: Invalid syntax for unquoted local part `just\"not\"right`.\n",
      "It contains the following non-valid characters: `\"`.\n",
      "The accepted ones are printable US-ASCII characters not including the specials, i.e.:\n",
      "  - Latin letters `a` to `z` and `A` to `Z`\n",
      "  - Digits `0` to `9`\n",
      "  - Printable characters `!#$%&'*+-/=?^_`{|}~`\n",
      "  - Dot `.`, as long as it is not the first or last character and that it does not appear consecutively\n",
      "LocalPartSyntaxError: Invalid syntax for quoted local part `\"quote\"separated\"`.\n",
      "It must contain only one quoted string, i.e., it can't contain more than 2 `\"` characters.\n",
      "LocalPartSyntaxError: Invalid syntax for unquoted local part `this is\"not\\allowed`.\n",
      "It contains the following non-valid characters: `\"\\`.\n",
      "The accepted ones are printable US-ASCII characters not including the specials, i.e.:\n",
      "  - Latin letters `a` to `z` and `A` to `Z`\n",
      "  - Digits `0` to `9`\n",
      "  - Printable characters `!#$%&'*+-/=?^_`{|}~`\n",
      "  - Dot `.`, as long as it is not the first or last character and that it does not appear consecutively\n",
      "LocalPartSyntaxError: Invalid syntax for unquoted local part `this\\ still\"not\\allowed`.\n",
      "It contains the following non-valid characters: `\"\\`.\n",
      "The accepted ones are printable US-ASCII characters not including the specials, i.e.:\n",
      "  - Latin letters `a` to `z` and `A` to `Z`\n",
      "  - Digits `0` to `9`\n",
      "  - Printable characters `!#$%&'*+-/=?^_`{|}~`\n",
      "  - Dot `.`, as long as it is not the first or last character and that it does not appear consecutively\n",
      "LocalPartSyntaxError: The local part cannot be longer than 64 characters\n"
     ]
    },
    {
     "data": {
      "text/plain": [
       "True"
      ]
     },
     "execution_count": 19,
     "metadata": {},
     "output_type": "execute_result"
    }
   ],
   "source": [
    "validator = EmailValidator()\n",
    "all(not validator.is_email_valid(address) for address in invalid_addresses)"
   ]
  }
 ],
 "metadata": {
  "kernelspec": {
   "display_name": "Python 3",
   "language": "python",
   "name": "python3"
  },
  "language_info": {
   "codemirror_mode": {
    "name": "ipython",
    "version": 3
   },
   "file_extension": ".py",
   "mimetype": "text/x-python",
   "name": "python",
   "nbconvert_exporter": "python",
   "pygments_lexer": "ipython3",
   "version": "3.8.3"
  },
  "toc": {
   "base_numbering": 1,
   "nav_menu": {},
   "number_sections": true,
   "sideBar": true,
   "skip_h1_title": false,
   "title_cell": "Table of Contents",
   "title_sidebar": "Contents",
   "toc_cell": false,
   "toc_position": {},
   "toc_section_display": true,
   "toc_window_display": false
  },
  "varInspector": {
   "cols": {
    "lenName": 16,
    "lenType": 16,
    "lenVar": 40
   },
   "kernels_config": {
    "python": {
     "delete_cmd_postfix": "",
     "delete_cmd_prefix": "del ",
     "library": "var_list.py",
     "varRefreshCmd": "print(var_dic_list())"
    },
    "r": {
     "delete_cmd_postfix": ") ",
     "delete_cmd_prefix": "rm(",
     "library": "var_list.r",
     "varRefreshCmd": "cat(var_dic_list()) "
    }
   },
   "types_to_exclude": [
    "module",
    "function",
    "builtin_function_or_method",
    "instance",
    "_Feature"
   ],
   "window_display": false
  }
 },
 "nbformat": 4,
 "nbformat_minor": 4
}
