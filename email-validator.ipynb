{
 "cells": [
  {
   "cell_type": "markdown",
   "metadata": {},
   "source": [
    "# Email validator\n",
    "\n",
    "Create an email address validator to ensure the addresses in the database are valid."
   ]
  },
  {
   "cell_type": "markdown",
   "metadata": {
    "ExecuteTime": {
     "end_time": "2021-01-24T15:09:44.829683Z",
     "start_time": "2021-01-24T15:09:44.810207Z"
    }
   },
   "source": [
    "Any e-mail address is made of a local part, the symbol `@` and a domain name. Thus, the validation process is done in three steps, and using RegEx patterns:\n",
    "1. Check if the email address has a valid base format, i.e., `localpart@domainname`.\n",
    "2. Check the local part format.\n",
    "3. Check the domain name format.\n",
    "\n",
    "Because a vast majority of the users use an unquoted address, the validator do not accepts addresses with a quoted local part. For more information about the formatting of the local part, see this [link](https://en.wikipedia.org/wiki/Email_address#Local-part). In addition, as IP domain names are extremly rare except in email spam, the validator does not accept them either. For more information about the domain formatting, see this other [link](https://en.wikipedia.org/wiki/Email_address#Domain).\n",
    "\n",
    "Of course, using RegEx patterns I can only verify that the email address is sintactically correct, but not whether it was misstyped or if it (exists checking the SMTP server). For a more complete validator that does extra verifications, one might use the `Python` third-party library `validate-email` (see their GitHub [repo](https://github.com/syrusakbary/validate_email)).\n",
    "\n",
    "In the following cell I include `EmailValidator`, which is a `Python` class designed to check whether an email address is valid or not. To use it, one only needs to instantiate it and use its convenience function `is_valid`, which returns a boolean value indicating whether the input email is valid or not. In case `is_email_valid` returns `False`, it also prints a message indicating the  reason why. See the following example:\n",
    "```python\n",
    "validator = EmailValidator()\n",
    "validator.is_email_valid('user@example.com')\n",
    "# output: True\n",
    "```\n",
    "\n",
    "For a faster (and less exhaustive) validation, one can use its class method `fast_validation`, which also returns a boolean according to the validity of the input address but prints no messages (nor raises exceptions). See the following example:\n",
    "```python\n",
    "EmailValidator.fast_validation('userexample.com') # notice there is no need to instantiate the class\n",
    "# output: False\n",
    "```\n",
    "\n",
    "Yet another example (with error message):\n",
    "```python\n",
    "validator = EmailValidator()\n",
    "validator.is_email_valid('userexample.com')\n",
    "# prints: NotValidEmailAddressSyntaxError: Expecting address syntax like `localpart@domainname`\n",
    "# output: False\n",
    "```"
   ]
  },
  {
   "cell_type": "code",
   "execution_count": 1,
   "metadata": {
    "ExecuteTime": {
     "end_time": "2021-02-05T15:44:01.790358Z",
     "start_time": "2021-02-05T15:44:01.742416Z"
    }
   },
   "outputs": [],
   "source": [
    "import sys\n",
    "sys.path.append('./src/')\n",
    "\n",
    "from validator import EmailValidator"
   ]
  },
  {
   "cell_type": "markdown",
   "metadata": {},
   "source": [
    "## Timing"
   ]
  },
  {
   "cell_type": "code",
   "execution_count": 2,
   "metadata": {
    "ExecuteTime": {
     "end_time": "2021-02-05T15:44:28.597930Z",
     "start_time": "2021-02-05T15:44:19.790404Z"
    },
    "scrolled": true
   },
   "outputs": [
    {
     "name": "stdout",
     "output_type": "stream",
     "text": [
      "10.8 µs ± 59.9 ns per loop (mean ± std. dev. of 7 runs, 100000 loops each)\n"
     ]
    }
   ],
   "source": [
    "%%timeit\n",
    "validator = EmailValidator()\n",
    "validator.is_email_valid(\"user@test.com\")"
   ]
  },
  {
   "cell_type": "code",
   "execution_count": 3,
   "metadata": {
    "ExecuteTime": {
     "end_time": "2021-02-05T15:44:32.153278Z",
     "start_time": "2021-02-05T15:44:28.645704Z"
    }
   },
   "outputs": [
    {
     "name": "stdout",
     "output_type": "stream",
     "text": [
      "4.23 µs ± 267 ns per loop (mean ± std. dev. of 7 runs, 100000 loops each)\n"
     ]
    }
   ],
   "source": [
    "%%timeit\n",
    "EmailValidator.fast_validation(\"user@test.com\")"
   ]
  },
  {
   "cell_type": "markdown",
   "metadata": {},
   "source": [
    "## Testing"
   ]
  },
  {
   "cell_type": "code",
   "execution_count": 23,
   "metadata": {
    "ExecuteTime": {
     "end_time": "2021-02-05T12:12:53.502877Z",
     "start_time": "2021-02-05T12:12:53.492901Z"
    }
   },
   "outputs": [],
   "source": [
    "valid_addresses = [\n",
    "    'simple@example.com',\n",
    "    'very.common@example.com',\n",
    "    'disposable.style.email.with+symbol@example.com',\n",
    "    'other.email-with-hyphen@example.com',\n",
    "    'fully-qualified-domain@example.com',\n",
    "    'user.name+tag+sorting@example.com',\n",
    "    'x@example.com',\n",
    "    'example-indeed@strange-example.com',\n",
    "    'admin@mailserver1', \n",
    "    'example@s.example', \n",
    "    '\" \"@example.org',\n",
    "    '\"john..doe\"@example.org',\n",
    "    'mailhost!username@example.org',\n",
    "    'user%example.com@example.org',\n",
    "    'user-@example.org',\n",
    "    '\"A@b@c\"@example.com',\n",
    "    \n",
    "    'jsmith@[192.168.2.1]',\n",
    "    'jsmith@[IPv6:2001:db8::1]'\n",
    "]\n",
    "\n",
    "invalid_addresses = [\n",
    "    'Abc.example.com', # no @ character\n",
    "    'A@b@c@example.com', # only one @ is allowed outside quotation marks\n",
    "    'a\"b(c)d,e:f;g<h>i[j\\k]l@example.com', # none of the special characters in this local-part are allowed outside quotation marks\n",
    "    'just\"not\"right@example.com', # quoted strings must be the only element making up the local-part\n",
    "    '\"quote\"separated\"@address.com',\n",
    "   r'this is\"not\\allowed@example.com', # spaces, quotes, and backslashes may only exist when within quoted strings and preceded by a backslash\n",
    "    'this\\ still\\\"not\\\\allowed@example.com', # even if escaped (preceded by a backslash), spaces, quotes, and backslashes must still be contained by quotes\n",
    "    '1234567890123456789012345678901234567890123456789012345678901234+x@example.com', # local-part is longer than 64 characters\n",
    "]"
   ]
  },
  {
   "cell_type": "code",
   "execution_count": null,
   "metadata": {},
   "outputs": [],
   "source": [
    "# it should consider all valid\n",
    "all(EmailValidator.fast_validation(address) for address in valid_addresses)"
   ]
  },
  {
   "cell_type": "code",
   "execution_count": 17,
   "metadata": {
    "ExecuteTime": {
     "end_time": "2021-02-05T12:00:29.909195Z",
     "start_time": "2021-02-05T12:00:29.901216Z"
    }
   },
   "outputs": [
    {
     "data": {
      "text/plain": [
       "True"
      ]
     },
     "execution_count": 17,
     "metadata": {},
     "output_type": "execute_result"
    }
   ],
   "source": [
    "# again, all valid\n",
    "validator = EmailValidator()\n",
    "all(validator.is_email_valid(address) for address in valid_addresses)"
   ]
  },
  {
   "cell_type": "code",
   "execution_count": 24,
   "metadata": {
    "ExecuteTime": {
     "end_time": "2021-02-05T12:12:58.886872Z",
     "start_time": "2021-02-05T12:12:58.869007Z"
    },
    "scrolled": true
   },
   "outputs": [
    {
     "data": {
      "text/plain": [
       "True"
      ]
     },
     "execution_count": 24,
     "metadata": {},
     "output_type": "execute_result"
    }
   ],
   "source": [
    "# it should consider all not valid\n",
    "all(not EmailValidator.fast_validation(address) for address in invalid_addresses)"
   ]
  },
  {
   "cell_type": "code",
   "execution_count": 19,
   "metadata": {
    "ExecuteTime": {
     "end_time": "2021-02-05T12:03:08.796320Z",
     "start_time": "2021-02-05T12:03:08.781840Z"
    }
   },
   "outputs": [
    {
     "name": "stdout",
     "output_type": "stream",
     "text": [
      "NotValidEmailAddressSyntaxError: Expecting address syntax like `localpart@domainname`\n",
      "LocalPartSyntaxError: Invalid syntax for unquoted local part `a@b@c`.\n",
      "It contains the following non-valid characters: `@`.\n",
      "The accepted ones are printable US-ASCII characters not including the specials, i.e.:\n",
      "  - Latin letters `a` to `z` and `A` to `Z`\n",
      "  - Digits `0` to `9`\n",
      "  - Printable characters `!#$%&'*+-/=?^_`{|}~`\n",
      "  - Dot `.`, as long as it is not the first or last character and that it does not appear consecutively\n",
      "LocalPartSyntaxError: Invalid syntax for unquoted local part `a\"b(c)d,e:f;g<h>i[j\\k]l`.\n",
      "It contains the following non-valid characters: `:,<[;\\>]\"`.\n",
      "The accepted ones are printable US-ASCII characters not including the specials, i.e.:\n",
      "  - Latin letters `a` to `z` and `A` to `Z`\n",
      "  - Digits `0` to `9`\n",
      "  - Printable characters `!#$%&'*+-/=?^_`{|}~`\n",
      "  - Dot `.`, as long as it is not the first or last character and that it does not appear consecutively\n",
      "LocalPartSyntaxError: Invalid syntax for unquoted local part `just\"not\"right`.\n",
      "It contains the following non-valid characters: `\"`.\n",
      "The accepted ones are printable US-ASCII characters not including the specials, i.e.:\n",
      "  - Latin letters `a` to `z` and `A` to `Z`\n",
      "  - Digits `0` to `9`\n",
      "  - Printable characters `!#$%&'*+-/=?^_`{|}~`\n",
      "  - Dot `.`, as long as it is not the first or last character and that it does not appear consecutively\n",
      "LocalPartSyntaxError: Invalid syntax for quoted local part `\"quote\"separated\"`.\n",
      "It must contain only one quoted string, i.e., it can't contain more than 2 `\"` characters.\n",
      "LocalPartSyntaxError: Invalid syntax for unquoted local part `this is\"not\\allowed`.\n",
      "It contains the following non-valid characters: `\"\\`.\n",
      "The accepted ones are printable US-ASCII characters not including the specials, i.e.:\n",
      "  - Latin letters `a` to `z` and `A` to `Z`\n",
      "  - Digits `0` to `9`\n",
      "  - Printable characters `!#$%&'*+-/=?^_`{|}~`\n",
      "  - Dot `.`, as long as it is not the first or last character and that it does not appear consecutively\n",
      "LocalPartSyntaxError: Invalid syntax for unquoted local part `this\\ still\"not\\allowed`.\n",
      "It contains the following non-valid characters: `\"\\`.\n",
      "The accepted ones are printable US-ASCII characters not including the specials, i.e.:\n",
      "  - Latin letters `a` to `z` and `A` to `Z`\n",
      "  - Digits `0` to `9`\n",
      "  - Printable characters `!#$%&'*+-/=?^_`{|}~`\n",
      "  - Dot `.`, as long as it is not the first or last character and that it does not appear consecutively\n",
      "LocalPartSyntaxError: The local part cannot be longer than 64 characters\n"
     ]
    },
    {
     "data": {
      "text/plain": [
       "True"
      ]
     },
     "execution_count": 19,
     "metadata": {},
     "output_type": "execute_result"
    }
   ],
   "source": [
    "# again, not valid (and print error messages explaining why)\n",
    "validator = EmailValidator()\n",
    "all(not validator.is_email_valid(address) for address in invalid_addresses)"
   ]
  }
 ],
 "metadata": {
  "kernelspec": {
   "display_name": "Python 3",
   "language": "python",
   "name": "python3"
  },
  "language_info": {
   "codemirror_mode": {
    "name": "ipython",
    "version": 3
   },
   "file_extension": ".py",
   "mimetype": "text/x-python",
   "name": "python",
   "nbconvert_exporter": "python",
   "pygments_lexer": "ipython3",
   "version": "3.8.3"
  },
  "toc": {
   "base_numbering": 1,
   "nav_menu": {},
   "number_sections": true,
   "sideBar": true,
   "skip_h1_title": false,
   "title_cell": "Table of Contents",
   "title_sidebar": "Contents",
   "toc_cell": false,
   "toc_position": {},
   "toc_section_display": true,
   "toc_window_display": false
  },
  "varInspector": {
   "cols": {
    "lenName": 16,
    "lenType": 16,
    "lenVar": 40
   },
   "kernels_config": {
    "python": {
     "delete_cmd_postfix": "",
     "delete_cmd_prefix": "del ",
     "library": "var_list.py",
     "varRefreshCmd": "print(var_dic_list())"
    },
    "r": {
     "delete_cmd_postfix": ") ",
     "delete_cmd_prefix": "rm(",
     "library": "var_list.r",
     "varRefreshCmd": "cat(var_dic_list()) "
    }
   },
   "types_to_exclude": [
    "module",
    "function",
    "builtin_function_or_method",
    "instance",
    "_Feature"
   ],
   "window_display": false
  }
 },
 "nbformat": 4,
 "nbformat_minor": 4
}
